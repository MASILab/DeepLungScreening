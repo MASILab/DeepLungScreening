{
 "cells": [
  {
   "cell_type": "code",
   "execution_count": null,
   "metadata": {},
   "outputs": [],
   "source": [
    "# normalize meta data\n",
    "\n",
    "norm_age = (actual_age - 54) / (80 - 54) + 0.01\n",
    "bmi = min(60, max(20, bmi )) \n",
    "norm_bmi = (bmi - 20) / (60 - 20) + 0.01\n",
    "\n",
    "edu_dict = {'lessHighScho': 1, 'Highscho': 2, 'PosHighScho': 3, 'Associate': 4, 'Bachelor': 5, 'Graduate': 6}\n",
    "norm_edu = (edu_dict[edu] - 1) / (7 -1) + 0.01\n",
    "\n",
    "phist_dict = {'Yes': 1, 'no': 0}\n",
    "fhist_dict = {'Yes': 1, 'no': 0}\n",
    "smo_stutas = {'current-smoker': 1, 'other': 0.5}\n",
    "\n",
    "quit_time = min(30, max(0, quit_time))\n",
    "norm_quit_time = (quit_time - 0) / (30 - 0) + 0.01\n",
    "\n",
    "packyear = min(200, max(0, packyear))\n",
    "norm_packyear = (packyear - 0) / (200) + 0.01"
   ]
  },
  {
   "cell_type": "code",
   "execution_count": null,
   "metadata": {},
   "outputs": [],
   "source": []
  },
  {
   "cell_type": "code",
   "execution_count": null,
   "metadata": {},
   "outputs": [],
   "source": []
  },
  {
   "cell_type": "code",
   "execution_count": 6,
   "metadata": {},
   "outputs": [],
   "source": []
  },
  {
   "cell_type": "code",
   "execution_count": 7,
   "metadata": {},
   "outputs": [
    {
     "data": {
      "text/plain": [
       "(1, 252, 234, 337)"
      ]
     },
     "execution_count": 7,
     "metadata": {},
     "output_type": "execute_result"
    }
   ],
   "source": []
  },
  {
   "cell_type": "code",
   "execution_count": null,
   "metadata": {},
   "outputs": [],
   "source": []
  }
 ],
 "metadata": {
  "kernelspec": {
   "display_name": "Python [conda env:python37]",
   "language": "python",
   "name": "conda-env-python37-py"
  },
  "language_info": {
   "codemirror_mode": {
    "name": "ipython",
    "version": 3
   },
   "file_extension": ".py",
   "mimetype": "text/x-python",
   "name": "python",
   "nbconvert_exporter": "python",
   "pygments_lexer": "ipython3",
   "version": "3.7.5"
  }
 },
 "nbformat": 4,
 "nbformat_minor": 2
}
