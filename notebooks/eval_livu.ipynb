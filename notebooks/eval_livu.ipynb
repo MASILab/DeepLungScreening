{
 "cells": [
  {
   "cell_type": "code",
   "execution_count": 1,
   "metadata": {},
   "outputs": [],
   "source": [
    "import pandas as pd\n",
    "pd.options.mode.chained_assignment = None\n",
    "import os\n",
    "import glob\n",
    "from os import path\n",
    "import numpy as np\n",
    "from datetime import datetime, timedelta\n",
    "import matplotlib"
   ]
  },
  {
   "cell_type": "code",
   "execution_count": null,
   "metadata": {},
   "outputs": [],
   "source": [
    "cscnn = '/home/local/VANDERBILT/litz/github/MASILab/DSB2017/models/config_livu_1206/pred.csv'"
   ]
  }
 ],
 "metadata": {
  "kernelspec": {
   "display_name": "Python 3.8.10 ('env': venv)",
   "language": "python",
   "name": "python3"
  },
  "language_info": {
   "codemirror_mode": {
    "name": "ipython",
    "version": 3
   },
   "file_extension": ".py",
   "mimetype": "text/x-python",
   "name": "python",
   "nbconvert_exporter": "python",
   "pygments_lexer": "ipython3",
   "version": "3.8.10"
  },
  "orig_nbformat": 4,
  "vscode": {
   "interpreter": {
    "hash": "5f200d176dabb49d95026c363f973cb3430eb52f56a5992001a8f238f8ada93f"
   }
  }
 },
 "nbformat": 4,
 "nbformat_minor": 2
}
