{
 "cells": [
  {
   "cell_type": "markdown",
   "metadata": {},
   "source": [
    "# Get all xnat subjects that have been tracked\n",
    "Filter out any subjects that we don't know which project they came from."
   ]
  },
  {
   "cell_type": "code",
   "execution_count": 1,
   "metadata": {},
   "outputs": [],
   "source": [
    "import os\n",
    "import pandas as pd\n",
    "from datetime import datetime, timedelta\n",
    "import re"
   ]
  },
  {
   "cell_type": "code",
   "execution_count": 2,
   "metadata": {},
   "outputs": [
    {
     "name": "stderr",
     "output_type": "stream",
     "text": [
      "/tmp/ipykernel_2190890/3605223933.py:25: FutureWarning: Inferring datetime64[ns] from data containing strings is deprecated and will be removed in a future version. To retain the old behavior explicitly pass Series(data, dtype=datetime64[ns])\n",
      "  xnat['Date'] = xnat.apply(lambda x: impute_date(x), axis=1)\n"
     ]
    }
   ],
   "source": [
    "xnat_files = ['MCL_CT.csv', 'Atwater_CT.csv','CANARY2a_CT.csv', 'HealthMyne_CT.csv', 'LTP2_CT.csv', 'Moffitt_CT.csv', \n",
    "    'Pitt_CT.csv', 'VLRVUVA_CT.csv', 'CTDNA_CT.csv', 'healthmyneGGO_CT.csv', 'MafeCANARY_CT.csv',\n",
    "    'OptellumAneri_CT.csv', 'Optellum_CT.csv', 'TMA34_CT.csv', 'UW_CT.csv', 'VLR_CT.csv']\n",
    "xnat_paths = [os.path.join('/home/local/VANDERBILT/litz/data/ajrccm/xnat20221201/', f) for f in xnat_files] \n",
    "projects = ['MCL', 'Atwater', 'Canary', 'HealthMyne', 'LTP2', 'Moffitt', 'Pitt', 'VLRVUV', 'CTDNA', \n",
    "    'healthmyneGGO', 'MafeCANARY', 'OptellumAneri', 'Optellum', 'TMA34', 'UW', 'VLR']\n",
    "ajr_path = \"/home/local/VANDERBILT/litz/data/ajrccm/AJRCCM Dataset MCL and Date.xlsx\"\n",
    "xnat = []\n",
    "for i, xnat_path in enumerate(xnat_paths):\n",
    "    df = pd.read_csv(xnat_path, dtype={'XNAT_CTSESSIONDATA ID': str, 'Subject': str, 'dcmPatientName': str, 'dcmPatientId': str, 'Date': str})\n",
    "    df['xnat_project'] = projects[i]\n",
    "    xnat.append(df)\n",
    "xnat = pd.concat(xnat, axis=0, ignore_index=True)\n",
    "xnat['Date'] = pd.to_datetime(xnat['Date'], format='%Y-%m-%d')\n",
    "# try to impute date from ID\n",
    "def impute_date(x):\n",
    "    if pd.isnull(x['Date']):\n",
    "        try:\n",
    "            date = pd.to_datetime(x['XNAT_CTSESSIONDATA ID'].split('_')[1], format='%Y%m%d')\n",
    "            return date.strftime(\"%Y-%m-%d\")\n",
    "        except:\n",
    "            return None\n",
    "    else:\n",
    "        return x['Date']\n",
    "xnat['Date'] = xnat.apply(lambda x: impute_date(x), axis=1)\n",
    "# parse mcl_id from MCLID_MCLID_CTDate and MCL_SPORE_MCLID formats\n",
    "def parse_mclid(x):\n",
    "    split = x.split('_')\n",
    "    for s in split:\n",
    "        if s.isdigit():\n",
    "            return s\n",
    "\n",
    "# xnat record must have Subject and Date\n",
    "xnat = xnat[~xnat['Subject'].isnull()]\n",
    "# xnat = xnat[~xnat['Date'].isnull()]\n",
    "xnat['mcl_id'] = xnat['Subject'].apply(lambda x: parse_mclid(x))"
   ]
  },
  {
   "cell_type": "code",
   "execution_count": 31,
   "metadata": {},
   "outputs": [
    {
     "name": "stdout",
     "output_type": "stream",
     "text": [
      "Total xnat (n=4861) - unmatched (n=755) = matched (n=4108)\n"
     ]
    },
    {
     "name": "stderr",
     "output_type": "stream",
     "text": [
      "/tmp/ipykernel_154652/2010223168.py:1: FutureWarning: Dropping invalid columns in DataFrameGroupBy.max is deprecated. In a future version, a TypeError will be raised. Before calling .max, select only columns which should be valid for the function.\n",
      "  xnat_subj = xnat.groupby('mcl_id', as_index=False).max()\n"
     ]
    }
   ],
   "source": [
    "xnat_subj = xnat.groupby('mcl_id', as_index=False).max()\n",
    "\n",
    "unmatched = pd.read_csv('/home/local/VANDERBILT/litz/github/MASILab/DeepLungScreening/cohorts/xnat/xnat_unmatched_v2.csv', dtype={'mcl_id':str})\n",
    "matched = xnat_subj[~xnat_subj['mcl_id'].isin(unmatched['mcl_id'])]\n",
    "# matched.to_csv('/home/local/VANDERBILT/litz/github/MASILab/DeepLungScreening/cohorts/xnat/xnat_matched_v2.csv', index=False)\n",
    "print(f\"Total xnat (n={len(xnat_subj)}) - unmatched (n={len(unmatched)}) = matched (n={len(matched)})\")"
   ]
  },
  {
   "cell_type": "code",
   "execution_count": 5,
   "metadata": {},
   "outputs": [],
   "source": [
    "# write mcl_ids as comma separated list for xnatdownload\n",
    "\n",
    "idstring = ','.join(matched['mcl_id'].tolist()) # comma sep ids\n",
    "dst = '/home/local/VANDERBILT/litz/github/MASILab/DeepLungScreening/cohorts/xnat/xnat_matched_v2.txt'\n",
    "with open(dst, 'w') as f:\n",
    "    f.write(idstring)\n",
    "\n",
    "# write project list from xnat\n",
    "projectids = ['MCL', 'Atwater', 'CANARY', 'HealthMyne','THO1292','Moffitt','Pitt', 'VLR-VUVA', 'CTDNA', 'GGO',  'MafeCANARY', 'OptellumAneri', 'Optellum', 'TMA34', 'UW', 'VLR']\n",
    "pstring = ','.join(projectids)\n",
    "with open('/home/local/VANDERBILT/litz/github/MASILab/DeepLungScreening/cohorts/xnat/project_ids.txt', 'w') as f:\n",
    "    f.write(pstring)"
   ]
  },
  {
   "cell_type": "code",
   "execution_count": 6,
   "metadata": {},
   "outputs": [
    {
     "name": "stdout",
     "output_type": "stream",
     "text": [
      "4108\n"
     ]
    }
   ],
   "source": [
    "# skip xnatdownload done\n",
    "success2 = pd.read_csv('/nfs/masi/MCL/xnat/xnat20230505_matchedv2/download_report_v2.csv', dtype={'subject_label':str})\n",
    "success3 = pd.read_csv('/nfs/masi/MCL/xnat/xnat20230505_matchedv2/download_report_v3.csv', dtype={'subject_label':str})\n",
    "success4 = pd.read_csv('/nfs/masi/MCL/xnat/xnat20230505_matchedv2/download_report_v4.csv', dtype={'subject_label':str})\n",
    "success5 = pd.read_csv('/nfs/masi/MCL/xnat/xnat20230505_matchedv2/download_report_v5.csv', dtype={'subject_label':str})\n",
    "success6 = pd.read_csv('/nfs/masi/MCL/xnat/xnat20230505_matchedv2/download_report_v6.csv', dtype={'subject_label':str})\n",
    "success7 = pd.read_csv('/nfs/masi/MCL/xnat/xnat20230505_matchedv2/download_report_v7.csv', dtype={'subject_label':str})\n",
    "success = pd.concat([success2, success3, success4, success5, success6, success7])\n",
    "print(len(matched))\n",
    "not_done = matched[~matched['mcl_id'].isin(success['subject_label'])]\n",
    "not_done = not_done[~not_done['mcl_id'].isin(['27471483422', '18375153884'])]\n",
    "not_done_idstring = ','.join(not_done['mcl_id'].tolist())\n",
    "with open('/home/local/VANDERBILT/litz/github/MASILab/DeepLungScreening/cohorts/xnat/xnat_matched_v2_job7.txt', 'w') as f:\n",
    "    f.write(not_done_idstring)"
   ]
  },
  {
   "cell_type": "code",
   "execution_count": 7,
   "metadata": {},
   "outputs": [
    {
     "data": {
      "text/plain": [
       "501"
      ]
     },
     "execution_count": 7,
     "metadata": {},
     "output_type": "execute_result"
    }
   ],
   "source": [
    "with open('/home/local/VANDERBILT/litz/github/MASILab/DeepLungScreening/cohorts/xnat/xnat_matched_v2_job7.txt', 'r') as f:\n",
    "    a = f.read()\n",
    "len(a.split(','))"
   ]
  },
  {
   "cell_type": "code",
   "execution_count": null,
   "metadata": {},
   "outputs": [],
   "source": []
  },
  {
   "cell_type": "markdown",
   "metadata": {},
   "source": [
    "## Unmatched data"
   ]
  },
  {
   "cell_type": "code",
   "execution_count": 3,
   "metadata": {},
   "outputs": [],
   "source": [
    "unmatched = pd.read_csv('/home/local/VANDERBILT/litz/github/MASILab/DeepLungScreening/cohorts/xnat/xnat_unmatched_v2.csv', dtype={'mcl_id':str})\n",
    "xnat_unmatched = xnat.merge(unmatched, on='XNAT_CTSESSIONDATA ID') # merge xnat records with unmatched list\n",
    "xnat_sess_unmatched = xnat[xnat['mcl_id'].isin(xnat_unmatched['mcl_id_x'])]  # xnat session IDs of all unmatched\n",
    "# xnat_sess_unmatched.to_csv('/home/local/VANDERBILT/litz/github/MASILab/DeepLungScreening/cohorts/xnat/xnat_sess_unmatched.csv', index=False)"
   ]
  },
  {
   "cell_type": "code",
   "execution_count": 29,
   "metadata": {},
   "outputs": [
    {
     "name": "stdout",
     "output_type": "stream",
     "text": [
      "1635\n"
     ]
    }
   ],
   "source": [
    "unmatched = pd.read_csv('/home/local/VANDERBILT/litz/github/MASILab/DeepLungScreening/cohorts/xnat/xnat_unmatched_v2.csv', dtype={'mcl_id':str})\n",
    "xnat_unmatched = xnat.merge(unmatched, on='XNAT_CTSESSIONDATA ID') # merge xnat records with unmatched list\n",
    "unmatched_ids = xnat[xnat['mcl_id'].isin(xnat_unmatched['mcl_id_x'])]['XNAT_CTSESSIONDATA ID'] # xnat session IDs of all unmatched\n",
    "unmatched_ids = unmatched_ids.apply(lambda x: str(x))\n",
    "\n",
    "# comma separated list of unmatched IDs\n",
    "dst = '/home/local/VANDERBILT/litz/github/MASILab/DeepLungScreening/cohorts/xnat/xnat_unmatched_v2.txt'\n",
    "with open(dst, 'w') as f:\n",
    "    f.write(','.join(unmatched_ids.tolist()))\n",
    "# check txt file contains ids\n",
    "with open(dst, 'r') as f:\n",
    "    a = f.read()\n",
    "    print(len(a.split(',')))"
   ]
  },
  {
   "cell_type": "markdown",
   "metadata": {},
   "source": [
    "download script:\n",
    "`cat /home/local/VANDERBILT/litz/github/MASILab/DeepLungScreening/cohorts/xnat/xnat_unmatched_v2.txt | xargs -n 1 -I {} Xnatdownload -p MCL,Atwater,CANARY,HealthMyne,THO1292,Moffitt,Pitt,VLR-VUVA,CTDNA,GGO,MafeCANARY,OptellumAneri,Optellum,TMA34,UW,VLR -d /nfs/masi/MCL/xnat/xnat20230616_unmatched --rs DICOM --sess {} -s all`"
   ]
  },
  {
   "cell_type": "code",
   "execution_count": 44,
   "metadata": {},
   "outputs": [
    {
     "name": "stdout",
     "output_type": "stream",
     "text": [
      "409\n",
      "409\n",
      "409\n",
      "408\n"
     ]
    },
    {
     "name": "stderr",
     "output_type": "stream",
     "text": [
      "/tmp/ipykernel_154652/4035760589.py:5: FutureWarning: The behavior of `series[i:j]` with an integer-dtype index is deprecated. In a future version, this will be treated as *label-based* indexing, consistent with e.g. `series[i]` lookups. To retain the old behavior, use `series.iloc[i:j]`. To get the future behavior, use `series.loc[i:j]`.\n",
      "  jobids = unmatched_ids[n::njobs]\n"
     ]
    }
   ],
   "source": [
    "# split xnatdownload into n jobs\n",
    "dst_root = \"/home/local/VANDERBILT/litz/github/MASILab/DeepLungScreening/cohorts/xnat/\"\n",
    "njobs = 4\n",
    "for n in range(njobs):\n",
    "    jobids = unmatched_ids[n::njobs]\n",
    "    jobfname = os.path.join(dst_root, f\"xnat_unmatched_v2_job{n}.txt\")\n",
    "    with open(jobfname, 'w') as f:\n",
    "        f.write(','.join(jobids.tolist()))\n",
    "\n",
    "    with open(jobfname, 'r') as f:\n",
    "        a = f.read()\n",
    "        print(len(a.split(',')))"
   ]
  },
  {
   "cell_type": "markdown",
   "metadata": {},
   "source": [
    "### remove unmatched data from XNAT"
   ]
  },
  {
   "cell_type": "code",
   "execution_count": 10,
   "metadata": {},
   "outputs": [
    {
     "data": {
      "text/html": [
       "<div>\n",
       "<style scoped>\n",
       "    .dataframe tbody tr th:only-of-type {\n",
       "        vertical-align: middle;\n",
       "    }\n",
       "\n",
       "    .dataframe tbody tr th {\n",
       "        vertical-align: top;\n",
       "    }\n",
       "\n",
       "    .dataframe thead th {\n",
       "        text-align: right;\n",
       "    }\n",
       "</style>\n",
       "<table border=\"1\" class=\"dataframe\">\n",
       "  <thead>\n",
       "    <tr style=\"text-align: right;\">\n",
       "      <th></th>\n",
       "      <th>XNAT_CTSESSIONDATA ID</th>\n",
       "      <th>Subject</th>\n",
       "      <th>Date</th>\n",
       "      <th>Age</th>\n",
       "      <th>dcmAccessionNumber</th>\n",
       "      <th>dcmPatientId</th>\n",
       "      <th>dcmPatientName</th>\n",
       "      <th>UID</th>\n",
       "      <th>Scans</th>\n",
       "      <th>xnat_project</th>\n",
       "      <th>M/F</th>\n",
       "      <th>Hand</th>\n",
       "      <th>YOB</th>\n",
       "      <th>CT Sessions</th>\n",
       "      <th>mcl_id</th>\n",
       "    </tr>\n",
       "  </thead>\n",
       "  <tbody>\n",
       "    <tr>\n",
       "      <th>2</th>\n",
       "      <td>10018225001_19990102</td>\n",
       "      <td>10018225001</td>\n",
       "      <td>1999-01-02</td>\n",
       "      <td>NaN</td>\n",
       "      <td>454465</td>\n",
       "      <td>10018225001</td>\n",
       "      <td>10018225001</td>\n",
       "      <td>1.2.840.113654.2.55.33949720292743207390556118...</td>\n",
       "      <td>0,OPA,GE,LS16,BONE,290,2.5,120,60,0.1,1.4(1), ...</td>\n",
       "      <td>MCL</td>\n",
       "      <td>NaN</td>\n",
       "      <td>NaN</td>\n",
       "      <td>NaN</td>\n",
       "      <td>NaN</td>\n",
       "      <td>10018225001</td>\n",
       "    </tr>\n",
       "    <tr>\n",
       "      <th>3</th>\n",
       "      <td>10018225001_20000102</td>\n",
       "      <td>10018225001</td>\n",
       "      <td>2000-01-02</td>\n",
       "      <td>NaN</td>\n",
       "      <td>132691</td>\n",
       "      <td>10018225001</td>\n",
       "      <td>10018225001</td>\n",
       "      <td>1.2.840.113654.2.55.20002360254731926874927873...</td>\n",
       "      <td>1,OPA,GE,LS16,BONE,290,2.5,120,60,0.1,1.4(1), ...</td>\n",
       "      <td>MCL</td>\n",
       "      <td>NaN</td>\n",
       "      <td>NaN</td>\n",
       "      <td>NaN</td>\n",
       "      <td>NaN</td>\n",
       "      <td>10018225001</td>\n",
       "    </tr>\n",
       "    <tr>\n",
       "      <th>4</th>\n",
       "      <td>10018225001_20010102</td>\n",
       "      <td>10018225001</td>\n",
       "      <td>2001-01-02</td>\n",
       "      <td>NaN</td>\n",
       "      <td>749256</td>\n",
       "      <td>10018225001</td>\n",
       "      <td>10018225001</td>\n",
       "      <td>1.2.840.113654.2.55.33587818134506660933540328...</td>\n",
       "      <td>2,OPA,GE,LS16,BONE,290,2.5,120,60,0.1,1.4(1), ...</td>\n",
       "      <td>MCL</td>\n",
       "      <td>NaN</td>\n",
       "      <td>NaN</td>\n",
       "      <td>NaN</td>\n",
       "      <td>NaN</td>\n",
       "      <td>10018225001</td>\n",
       "    </tr>\n",
       "    <tr>\n",
       "      <th>6</th>\n",
       "      <td>100560_19990102</td>\n",
       "      <td>100560</td>\n",
       "      <td>1999-01-02</td>\n",
       "      <td>NaN</td>\n",
       "      <td>NaN</td>\n",
       "      <td>NaN</td>\n",
       "      <td>NaN</td>\n",
       "      <td>NaN</td>\n",
       "      <td>NA(2)</td>\n",
       "      <td>MCL</td>\n",
       "      <td>NaN</td>\n",
       "      <td>NaN</td>\n",
       "      <td>NaN</td>\n",
       "      <td>NaN</td>\n",
       "      <td>100560</td>\n",
       "    </tr>\n",
       "    <tr>\n",
       "      <th>7</th>\n",
       "      <td>100560_20000102</td>\n",
       "      <td>100560</td>\n",
       "      <td>2000-01-02</td>\n",
       "      <td>NaN</td>\n",
       "      <td>NaN</td>\n",
       "      <td>NaN</td>\n",
       "      <td>NaN</td>\n",
       "      <td>NaN</td>\n",
       "      <td>NA(2)</td>\n",
       "      <td>MCL</td>\n",
       "      <td>NaN</td>\n",
       "      <td>NaN</td>\n",
       "      <td>NaN</td>\n",
       "      <td>NaN</td>\n",
       "      <td>100560</td>\n",
       "    </tr>\n",
       "    <tr>\n",
       "      <th>...</th>\n",
       "      <td>...</td>\n",
       "      <td>...</td>\n",
       "      <td>...</td>\n",
       "      <td>...</td>\n",
       "      <td>...</td>\n",
       "      <td>...</td>\n",
       "      <td>...</td>\n",
       "      <td>...</td>\n",
       "      <td>...</td>\n",
       "      <td>...</td>\n",
       "      <td>...</td>\n",
       "      <td>...</td>\n",
       "      <td>...</td>\n",
       "      <td>...</td>\n",
       "      <td>...</td>\n",
       "    </tr>\n",
       "    <tr>\n",
       "      <th>12047</th>\n",
       "      <td>10000075-01</td>\n",
       "      <td>10000075</td>\n",
       "      <td>2016-06-24</td>\n",
       "      <td>NaN</td>\n",
       "      <td>NaN</td>\n",
       "      <td>NaN</td>\n",
       "      <td>NaN</td>\n",
       "      <td>NaN</td>\n",
       "      <td>1X.5 THINS_Series0002(1)</td>\n",
       "      <td>VLR</td>\n",
       "      <td>NaN</td>\n",
       "      <td>NaN</td>\n",
       "      <td>NaN</td>\n",
       "      <td>NaN</td>\n",
       "      <td>10000075</td>\n",
       "    </tr>\n",
       "    <tr>\n",
       "      <th>12048</th>\n",
       "      <td>10000076-01</td>\n",
       "      <td>10000076</td>\n",
       "      <td>2016-06-24</td>\n",
       "      <td>NaN</td>\n",
       "      <td>NaN</td>\n",
       "      <td>NaN</td>\n",
       "      <td>NaN</td>\n",
       "      <td>NaN</td>\n",
       "      <td>THIN CHEST W_O_Series0002(1)</td>\n",
       "      <td>VLR</td>\n",
       "      <td>NaN</td>\n",
       "      <td>NaN</td>\n",
       "      <td>NaN</td>\n",
       "      <td>NaN</td>\n",
       "      <td>10000076</td>\n",
       "    </tr>\n",
       "    <tr>\n",
       "      <th>12049</th>\n",
       "      <td>10000077-01</td>\n",
       "      <td>10000077</td>\n",
       "      <td>2016-06-24</td>\n",
       "      <td>NaN</td>\n",
       "      <td>NaN</td>\n",
       "      <td>NaN</td>\n",
       "      <td>NaN</td>\n",
       "      <td>NaN</td>\n",
       "      <td>Series0002(1)</td>\n",
       "      <td>VLR</td>\n",
       "      <td>NaN</td>\n",
       "      <td>NaN</td>\n",
       "      <td>NaN</td>\n",
       "      <td>NaN</td>\n",
       "      <td>10000077</td>\n",
       "    </tr>\n",
       "    <tr>\n",
       "      <th>12050</th>\n",
       "      <td>10000078-01</td>\n",
       "      <td>10000078</td>\n",
       "      <td>2016-06-24</td>\n",
       "      <td>NaN</td>\n",
       "      <td>NaN</td>\n",
       "      <td>NaN</td>\n",
       "      <td>NaN</td>\n",
       "      <td>NaN</td>\n",
       "      <td>CT 3_Series0003(1)</td>\n",
       "      <td>VLR</td>\n",
       "      <td>NaN</td>\n",
       "      <td>NaN</td>\n",
       "      <td>NaN</td>\n",
       "      <td>NaN</td>\n",
       "      <td>10000078</td>\n",
       "    </tr>\n",
       "    <tr>\n",
       "      <th>12051</th>\n",
       "      <td>10000079-01</td>\n",
       "      <td>10000079</td>\n",
       "      <td>2016-06-24</td>\n",
       "      <td>NaN</td>\n",
       "      <td>NaN</td>\n",
       "      <td>NaN</td>\n",
       "      <td>NaN</td>\n",
       "      <td>NaN</td>\n",
       "      <td>CT 3_Series0003(1)</td>\n",
       "      <td>VLR</td>\n",
       "      <td>NaN</td>\n",
       "      <td>NaN</td>\n",
       "      <td>NaN</td>\n",
       "      <td>NaN</td>\n",
       "      <td>10000079</td>\n",
       "    </tr>\n",
       "  </tbody>\n",
       "</table>\n",
       "<p>1635 rows × 15 columns</p>\n",
       "</div>"
      ],
      "text/plain": [
       "      XNAT_CTSESSIONDATA ID      Subject       Date  Age dcmAccessionNumber  \\\n",
       "2      10018225001_19990102  10018225001 1999-01-02  NaN             454465   \n",
       "3      10018225001_20000102  10018225001 2000-01-02  NaN             132691   \n",
       "4      10018225001_20010102  10018225001 2001-01-02  NaN             749256   \n",
       "6           100560_19990102       100560 1999-01-02  NaN                NaN   \n",
       "7           100560_20000102       100560 2000-01-02  NaN                NaN   \n",
       "...                     ...          ...        ...  ...                ...   \n",
       "12047           10000075-01     10000075 2016-06-24  NaN                NaN   \n",
       "12048           10000076-01     10000076 2016-06-24  NaN                NaN   \n",
       "12049           10000077-01     10000077 2016-06-24  NaN                NaN   \n",
       "12050           10000078-01     10000078 2016-06-24  NaN                NaN   \n",
       "12051           10000079-01     10000079 2016-06-24  NaN                NaN   \n",
       "\n",
       "      dcmPatientId dcmPatientName  \\\n",
       "2      10018225001    10018225001   \n",
       "3      10018225001    10018225001   \n",
       "4      10018225001    10018225001   \n",
       "6              NaN            NaN   \n",
       "7              NaN            NaN   \n",
       "...            ...            ...   \n",
       "12047          NaN            NaN   \n",
       "12048          NaN            NaN   \n",
       "12049          NaN            NaN   \n",
       "12050          NaN            NaN   \n",
       "12051          NaN            NaN   \n",
       "\n",
       "                                                     UID  \\\n",
       "2      1.2.840.113654.2.55.33949720292743207390556118...   \n",
       "3      1.2.840.113654.2.55.20002360254731926874927873...   \n",
       "4      1.2.840.113654.2.55.33587818134506660933540328...   \n",
       "6                                                    NaN   \n",
       "7                                                    NaN   \n",
       "...                                                  ...   \n",
       "12047                                                NaN   \n",
       "12048                                                NaN   \n",
       "12049                                                NaN   \n",
       "12050                                                NaN   \n",
       "12051                                                NaN   \n",
       "\n",
       "                                                   Scans xnat_project  M/F  \\\n",
       "2      0,OPA,GE,LS16,BONE,290,2.5,120,60,0.1,1.4(1), ...          MCL  NaN   \n",
       "3      1,OPA,GE,LS16,BONE,290,2.5,120,60,0.1,1.4(1), ...          MCL  NaN   \n",
       "4      2,OPA,GE,LS16,BONE,290,2.5,120,60,0.1,1.4(1), ...          MCL  NaN   \n",
       "6                                                  NA(2)          MCL  NaN   \n",
       "7                                                  NA(2)          MCL  NaN   \n",
       "...                                                  ...          ...  ...   \n",
       "12047                           1X.5 THINS_Series0002(1)          VLR  NaN   \n",
       "12048                       THIN CHEST W_O_Series0002(1)          VLR  NaN   \n",
       "12049                                      Series0002(1)          VLR  NaN   \n",
       "12050                                 CT 3_Series0003(1)          VLR  NaN   \n",
       "12051                                 CT 3_Series0003(1)          VLR  NaN   \n",
       "\n",
       "       Hand  YOB  CT Sessions       mcl_id  \n",
       "2       NaN  NaN          NaN  10018225001  \n",
       "3       NaN  NaN          NaN  10018225001  \n",
       "4       NaN  NaN          NaN  10018225001  \n",
       "6       NaN  NaN          NaN       100560  \n",
       "7       NaN  NaN          NaN       100560  \n",
       "...     ...  ...          ...          ...  \n",
       "12047   NaN  NaN          NaN     10000075  \n",
       "12048   NaN  NaN          NaN     10000076  \n",
       "12049   NaN  NaN          NaN     10000077  \n",
       "12050   NaN  NaN          NaN     10000078  \n",
       "12051   NaN  NaN          NaN     10000079  \n",
       "\n",
       "[1635 rows x 15 columns]"
      ]
     },
     "execution_count": 10,
     "metadata": {},
     "output_type": "execute_result"
    }
   ],
   "source": [
    "xnat_sess_unmatched"
   ]
  }
 ],
 "metadata": {
  "kernelspec": {
   "display_name": "DeepLungScreening",
   "language": "python",
   "name": "deeplungscreening"
  },
  "language_info": {
   "codemirror_mode": {
    "name": "ipython",
    "version": 3
   },
   "file_extension": ".py",
   "mimetype": "text/x-python",
   "name": "python",
   "nbconvert_exporter": "python",
   "pygments_lexer": "ipython3",
   "version": "3.8.10"
  },
  "orig_nbformat": 4
 },
 "nbformat": 4,
 "nbformat_minor": 2
}
