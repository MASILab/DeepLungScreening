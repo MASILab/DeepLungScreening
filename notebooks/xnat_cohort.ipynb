{
 "cells": [
  {
   "cell_type": "markdown",
   "metadata": {},
   "source": [
    "# Get all xnat subjects that have been tracked\n",
    "Filter out any subjects that we don't know which project they came from."
   ]
  },
  {
   "cell_type": "code",
   "execution_count": 1,
   "metadata": {},
   "outputs": [],
   "source": [
    "import os\n",
    "import pandas as pd\n",
    "from datetime import datetime, timedelta\n",
    "import re"
   ]
  },
  {
   "cell_type": "code",
   "execution_count": 2,
   "metadata": {},
   "outputs": [
    {
     "name": "stderr",
     "output_type": "stream",
     "text": [
      "/tmp/ipykernel_1558530/3605223933.py:25: FutureWarning: Inferring datetime64[ns] from data containing strings is deprecated and will be removed in a future version. To retain the old behavior explicitly pass Series(data, dtype=datetime64[ns])\n",
      "  xnat['Date'] = xnat.apply(lambda x: impute_date(x), axis=1)\n"
     ]
    }
   ],
   "source": [
    "xnat_files = ['MCL_CT.csv', 'Atwater_CT.csv','CANARY2a_CT.csv', 'HealthMyne_CT.csv', 'LTP2_CT.csv', 'Moffitt_CT.csv', \n",
    "    'Pitt_CT.csv', 'VLRVUVA_CT.csv', 'CTDNA_CT.csv', 'healthmyneGGO_CT.csv', 'MafeCANARY_CT.csv',\n",
    "    'OptellumAneri_CT.csv', 'Optellum_CT.csv', 'TMA34_CT.csv', 'UW_CT.csv', 'VLR_CT.csv']\n",
    "xnat_paths = [os.path.join('/home/local/VANDERBILT/litz/data/ajrccm/xnat20221201/', f) for f in xnat_files] \n",
    "projects = ['MCL', 'Atwater', 'Canary', 'HealthMyne', 'LTP2', 'Moffitt', 'Pitt', 'VLRVUV', 'CTDNA', \n",
    "    'healthmyneGGO', 'MafeCANARY', 'OptellumAneri', 'Optellum', 'TMA34', 'UW', 'VLR']\n",
    "ajr_path = \"/home/local/VANDERBILT/litz/data/ajrccm/AJRCCM Dataset MCL and Date.xlsx\"\n",
    "xnat = []\n",
    "for i, xnat_path in enumerate(xnat_paths):\n",
    "    df = pd.read_csv(xnat_path, dtype={'XNAT_CTSESSIONDATA ID': str, 'Subject': str, 'dcmPatientName': str, 'dcmPatientId': str, 'Date': str})\n",
    "    df['xnat_project'] = projects[i]\n",
    "    xnat.append(df)\n",
    "xnat = pd.concat(xnat, axis=0, ignore_index=True)\n",
    "xnat['Date'] = pd.to_datetime(xnat['Date'], format='%Y-%m-%d')\n",
    "# try to impute date from ID\n",
    "def impute_date(x):\n",
    "    if pd.isnull(x['Date']):\n",
    "        try:\n",
    "            date = pd.to_datetime(x['XNAT_CTSESSIONDATA ID'].split('_')[1], format='%Y%m%d')\n",
    "            return date.strftime(\"%Y-%m-%d\")\n",
    "        except:\n",
    "            return None\n",
    "    else:\n",
    "        return x['Date']\n",
    "xnat['Date'] = xnat.apply(lambda x: impute_date(x), axis=1)\n",
    "# parse mcl_id from MCLID_MCLID_CTDate and MCL_SPORE_MCLID formats\n",
    "def parse_mclid(x):\n",
    "    split = x.split('_')\n",
    "    for s in split:\n",
    "        if s.isdigit():\n",
    "            return s\n",
    "\n",
    "# xnat record must have Subject and Date\n",
    "xnat = xnat[~xnat['Subject'].isnull()]\n",
    "# xnat = xnat[~xnat['Date'].isnull()]\n",
    "xnat['mcl_id'] = xnat['Subject'].apply(lambda x: parse_mclid(x))"
   ]
  },
  {
   "cell_type": "code",
   "execution_count": 3,
   "metadata": {},
   "outputs": [
    {
     "name": "stdout",
     "output_type": "stream",
     "text": [
      "Total xnat (n=4861) - unmatched (n=755) = matched (n=4108)\n"
     ]
    },
    {
     "name": "stderr",
     "output_type": "stream",
     "text": [
      "/tmp/ipykernel_1558530/3395965990.py:1: FutureWarning: Dropping invalid columns in DataFrameGroupBy.max is deprecated. In a future version, a TypeError will be raised. Before calling .max, select only columns which should be valid for the function.\n",
      "  xnat_subj = xnat.groupby('mcl_id', as_index=False).max()\n"
     ]
    }
   ],
   "source": [
    "xnat_subj = xnat.groupby('mcl_id', as_index=False).max()\n",
    "\n",
    "unmatched = pd.read_csv('/home/local/VANDERBILT/litz/github/MASILab/DeepLungScreening/cohorts/xnat/xnat_unmatched_v2.csv', dtype={'mcl_id':str})\n",
    "matched = xnat_subj[~xnat_subj['mcl_id'].isin(unmatched['mcl_id'])]\n",
    "matched.to_csv('/home/local/VANDERBILT/litz/github/MASILab/DeepLungScreening/cohorts/xnat/xnat_matched_v2.csv', index=False)\n",
    "print(f\"Total xnat (n={len(xnat_subj)}) - unmatched (n={len(unmatched)}) = matched (n={len(matched)})\")"
   ]
  },
  {
   "cell_type": "code",
   "execution_count": 4,
   "metadata": {},
   "outputs": [],
   "source": [
    "# write mcl_ids as comma separated list for xnatdownload\n",
    "\n",
    "idstring = ','.join(matched['mcl_id'].tolist()) # comma sep ids\n",
    "dst = '/home/local/VANDERBILT/litz/github/MASILab/DeepLungScreening/cohorts/xnat/xnat_matched_v2.txt'\n",
    "with open(dst, 'w') as f:\n",
    "    f.write(idstring)\n",
    "\n",
    "# write project list from xnat\n",
    "projectids = ['MCL', 'Atwater', 'CANARY', 'HealthMyne','THO1292','Moffitt','Pitt', 'VLR-VUVA', 'CTDNA', 'GGO',  'MafeCANARY', 'OptellumAneri', 'Optellum', 'TMA34', 'UW', 'VLR']\n",
    "pstring = ','.join(projectids)\n",
    "with open('/home/local/VANDERBILT/litz/github/MASILab/DeepLungScreening/cohorts/xnat/project_ids.txt', 'w') as f:\n",
    "    f.write(pstring)"
   ]
  },
  {
   "cell_type": "code",
   "execution_count": 8,
   "metadata": {},
   "outputs": [
    {
     "name": "stdout",
     "output_type": "stream",
     "text": [
      "4108\n"
     ]
    }
   ],
   "source": [
    "# skip xnatdownload done\n",
    "success2 = pd.read_csv('/nfs/masi/MCL/xnat/xnat20230505_matchedv2/download_report_v2.csv', dtype={'subject_label':str})\n",
    "success3 = pd.read_csv('/nfs/masi/MCL/xnat/xnat20230505_matchedv2/download_report_v3.csv', dtype={'subject_label':str})\n",
    "success4 = pd.read_csv('/nfs/masi/MCL/xnat/xnat20230505_matchedv2/download_report_v4.csv', dtype={'subject_label':str})\n",
    "success5 = pd.read_csv('/nfs/masi/MCL/xnat/xnat20230505_matchedv2/download_report_v5.csv', dtype={'subject_label':str})\n",
    "success6 = pd.read_csv('/nfs/masi/MCL/xnat/xnat20230505_matchedv2/download_report_v6.csv', dtype={'subject_label':str})\n",
    "success = pd.concat([success2, success3, success4, success5, success6])\n",
    "print(len(matched))\n",
    "not_done = matched[~matched['mcl_id'].isin(success['subject_label'])]\n",
    "not_done = not_done[~not_done['mcl_id'].isin(['27471483422', '18375153884'])]\n",
    "not_done_idstring = ','.join(not_done['mcl_id'].tolist())\n",
    "with open('/home/local/VANDERBILT/litz/github/MASILab/DeepLungScreening/cohorts/xnat/xnat_matched_v2_job6.txt', 'w') as f:\n",
    "    f.write(not_done_idstring)"
   ]
  },
  {
   "cell_type": "code",
   "execution_count": 11,
   "metadata": {},
   "outputs": [
    {
     "data": {
      "text/plain": [
       "2345"
      ]
     },
     "execution_count": 11,
     "metadata": {},
     "output_type": "execute_result"
    }
   ],
   "source": [
    "with open('/home/local/VANDERBILT/litz/github/MASILab/DeepLungScreening/cohorts/xnat/xnat_matched_v2_job6.txt', 'r') as f:\n",
    "    a = f.read()\n",
    "len(a.split(','))"
   ]
  },
  {
   "cell_type": "code",
   "execution_count": 66,
   "metadata": {},
   "outputs": [
    {
     "data": {
      "text/html": [
       "<div>\n",
       "<style scoped>\n",
       "    .dataframe tbody tr th:only-of-type {\n",
       "        vertical-align: middle;\n",
       "    }\n",
       "\n",
       "    .dataframe tbody tr th {\n",
       "        vertical-align: top;\n",
       "    }\n",
       "\n",
       "    .dataframe thead th {\n",
       "        text-align: right;\n",
       "    }\n",
       "</style>\n",
       "<table border=\"1\" class=\"dataframe\">\n",
       "  <thead>\n",
       "    <tr style=\"text-align: right;\">\n",
       "      <th></th>\n",
       "      <th>mcl_id</th>\n",
       "      <th>Subject</th>\n",
       "      <th>Date</th>\n",
       "      <th>Age</th>\n",
       "      <th>xnat_project</th>\n",
       "      <th>Hand</th>\n",
       "      <th>YOB</th>\n",
       "      <th>CT Sessions</th>\n",
       "    </tr>\n",
       "  </thead>\n",
       "  <tbody>\n",
       "  </tbody>\n",
       "</table>\n",
       "</div>"
      ],
      "text/plain": [
       "Empty DataFrame\n",
       "Columns: [mcl_id, Subject, Date, Age, xnat_project, Hand, YOB, CT Sessions]\n",
       "Index: []"
      ]
     },
     "execution_count": 66,
     "metadata": {},
     "output_type": "execute_result"
    }
   ],
   "source": [
    "not_done[not_done['mcl_id']=='18375153884']"
   ]
  },
  {
   "cell_type": "code",
   "execution_count": 60,
   "metadata": {},
   "outputs": [
    {
     "data": {
      "text/html": [
       "<div>\n",
       "<style scoped>\n",
       "    .dataframe tbody tr th:only-of-type {\n",
       "        vertical-align: middle;\n",
       "    }\n",
       "\n",
       "    .dataframe tbody tr th {\n",
       "        vertical-align: top;\n",
       "    }\n",
       "\n",
       "    .dataframe thead th {\n",
       "        text-align: right;\n",
       "    }\n",
       "</style>\n",
       "<table border=\"1\" class=\"dataframe\">\n",
       "  <thead>\n",
       "    <tr style=\"text-align: right;\">\n",
       "      <th></th>\n",
       "      <th>object_type</th>\n",
       "      <th>project_id</th>\n",
       "      <th>subject_label</th>\n",
       "      <th>session_type</th>\n",
       "      <th>session_label</th>\n",
       "      <th>as_label</th>\n",
       "      <th>as_type</th>\n",
       "      <th>as_description</th>\n",
       "      <th>quality</th>\n",
       "      <th>resource</th>\n",
       "      <th>fpath</th>\n",
       "    </tr>\n",
       "  </thead>\n",
       "  <tbody>\n",
       "  </tbody>\n",
       "</table>\n",
       "</div>"
      ],
      "text/plain": [
       "Empty DataFrame\n",
       "Columns: [object_type, project_id, subject_label, session_type, session_label, as_label, as_type, as_description, quality, resource, fpath]\n",
       "Index: []"
      ]
     },
     "execution_count": 60,
     "metadata": {},
     "output_type": "execute_result"
    }
   ],
   "source": [
    "success[success['subject_label']=='18375153884']"
   ]
  },
  {
   "cell_type": "code",
   "execution_count": null,
   "metadata": {},
   "outputs": [],
   "source": []
  }
 ],
 "metadata": {
  "kernelspec": {
   "display_name": "env",
   "language": "python",
   "name": "python3"
  },
  "language_info": {
   "codemirror_mode": {
    "name": "ipython",
    "version": 3
   },
   "file_extension": ".py",
   "mimetype": "text/x-python",
   "name": "python",
   "nbconvert_exporter": "python",
   "pygments_lexer": "ipython3",
   "version": "3.8.10"
  },
  "orig_nbformat": 4
 },
 "nbformat": 4,
 "nbformat_minor": 2
}
